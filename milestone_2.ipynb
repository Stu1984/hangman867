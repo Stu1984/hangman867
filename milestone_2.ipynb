{
 "cells": [
  {
   "cell_type": "code",
   "execution_count": 11,
   "metadata": {},
   "outputs": [
    {
     "name": "stdout",
     "output_type": "stream",
     "text": [
      "['apple', 'orange', 'tangerine', 'kiwi', 'plum']\n",
      "tangerine\n",
      "Invalid input, please try again using a single letter\n"
     ]
    }
   ],
   "source": [
    "import random\n",
    "\n",
    "word_list = ['apple', 'orange', 'tangerine', 'kiwi', 'plum']\n",
    "print(word_list)\n",
    "\n",
    "word = random.choice(word_list)\n",
    "print(word)\n",
    "\n",
    "guess = str(input('Enter a single letter as your guess'))\n",
    "\n",
    "if guess.isalpha() and len(guess) == 1:\n",
    "    print('Good guess')\n",
    "else: \n",
    "    print('Invalid input, please try again using a single letter')"
   ]
  }
 ],
 "metadata": {
  "kernelspec": {
   "display_name": "base",
   "language": "python",
   "name": "python3"
  },
  "language_info": {
   "codemirror_mode": {
    "name": "ipython",
    "version": 3
   },
   "file_extension": ".py",
   "mimetype": "text/x-python",
   "name": "python",
   "nbconvert_exporter": "python",
   "pygments_lexer": "ipython3",
   "version": "3.11.5"
  }
 },
 "nbformat": 4,
 "nbformat_minor": 2
}
