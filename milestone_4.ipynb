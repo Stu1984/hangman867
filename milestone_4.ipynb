{
 "cells": [
  {
   "cell_type": "code",
   "execution_count": null,
   "metadata": {},
   "outputs": [],
   "source": [
    "import random\n",
    "\n",
    "class Hangman:\n",
    "\n",
    "    def __init__(self, word_list: list, num_lives = 5):\n",
    "\n",
    "        #attributes from the class constructor:\n",
    "        self.word_list = word_list\n",
    "        self.num_lives = num_lives\n",
    "\n",
    "        #Other attributes to be instantiated\n",
    "        self.word = random.choice(word_list)\n",
    "        self.hangman_list = ['_' for letter in self.word]\n",
    "        self.num_letters = int(len(set(self.word)))\n",
    "        self.guessed_letters_list = []\n",
    "\n",
    "    def check_guess(self, guess):\n",
    "        guess = guess.lower()\n",
    "        self.word = self.word.lower()\n",
    "        if guess in self.word:\n",
    "            print(f'Good guess! {guess} is in the word')\n",
    "            for index, letter in enumerate(self.word):\n",
    "                if letter == guess:\n",
    "                    self.hangman_list[index] = letter\n",
    "            print(self.hangman_list)\n",
    "            self.num_letters -= 1\n",
    "        else:\n",
    "            self.num_lives -= 1\n",
    "            print('Sorry, bad guess')\n",
    "            print(f'You have {self.num_lives} left')\n",
    "            print(f'Letters guessed so far: {self.guessed_letters_list}')\n",
    "            \n",
    "            \n",
    "\n",
    "    def ask_for_input(self):\n",
    "        while True:\n",
    "            guess = str(input('Guess a letter in the word'))\n",
    "\n",
    "            if not (guess.isalpha() and len(guess) == 1):\n",
    "                print('Invalid letter. Please, enter a single alphabetical character.')\n",
    "            elif guess in self.guessed_letters_list:\n",
    "                print('You already tried that letter')\n",
    "                self.guessed_letters_list.append(guess)\n",
    "                print(self.guessed_letters_list)\n",
    "            else:\n",
    "                self.check_guess(guess)\n",
    "                self.guessed_letters_list.append(guess)\n",
    "\n",
    "\n",
    "game1 = Hangman(['peach', 'apple', 'fruit'])\n",
    "game1.ask_for_input()\n"
   ]
  },
  {
   "cell_type": "code",
   "execution_count": null,
   "metadata": {},
   "outputs": [],
   "source": [
    "my_word = 'Stuart'\n",
    "\n",
    "my_blank_list = ['_' for letter in my_word]\n",
    "\n",
    "#print(my_blank_list)\n",
    "\n",
    "guessed_letter = 't'\n",
    "\n",
    "for index, letter in enumerate(my_word):\n",
    "    if letter == guessed_letter:\n",
    "        my_blank_list[index] = letter\n",
    "    else:\n",
    "        continue\n",
    "print(my_blank_list)\n",
    "    "
   ]
  }
 ],
 "metadata": {
  "kernelspec": {
   "display_name": "base",
   "language": "python",
   "name": "python3"
  },
  "language_info": {
   "codemirror_mode": {
    "name": "ipython",
    "version": 3
   },
   "file_extension": ".py",
   "mimetype": "text/x-python",
   "name": "python",
   "nbconvert_exporter": "python",
   "pygments_lexer": "ipython3",
   "version": "3.11.5"
  }
 },
 "nbformat": 4,
 "nbformat_minor": 2
}
