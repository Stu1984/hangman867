{
 "cells": [
  {
   "cell_type": "code",
   "execution_count": 13,
   "metadata": {},
   "outputs": [
    {
     "name": "stdout",
     "output_type": "stream",
     "text": [
      "Good guess! a is in the word.\n"
     ]
    }
   ],
   "source": [
    "import random\n",
    "\n",
    "fruit_list = ['apple', 'orange', 'tangerine', 'kiwi', 'plum']\n",
    "\n",
    "random_fruit = random.choice(fruit_list)\n",
    "\n",
    "def check_guess(guess):\n",
    "    guess = guess.lower()\n",
    "    if guess in random_fruit:\n",
    "        print(f'Good guess! {guess} is in the word.')\n",
    "    else:\n",
    "        print(f'Sorry, {guess} is not in the word. Try again.')\n",
    "\n",
    "def ask_for_input():\n",
    "    while True:\n",
    "        guess = str(input('Enter a single letter as your guess'))\n",
    "\n",
    "        if guess.isalpha() and len(guess) == 1:\n",
    "            break\n",
    "        else:\n",
    "            print('Invalid letter. Please, enter a single alphabetical character.')\n",
    "    check_guess(guess)\n",
    "\n",
    "ask_for_input()\n"
   ]
  },
  {
   "cell_type": "code",
   "execution_count": null,
   "metadata": {},
   "outputs": [],
   "source": []
  }
 ],
 "metadata": {
  "kernelspec": {
   "display_name": "base",
   "language": "python",
   "name": "python3"
  },
  "language_info": {
   "codemirror_mode": {
    "name": "ipython",
    "version": 3
   },
   "file_extension": ".py",
   "mimetype": "text/x-python",
   "name": "python",
   "nbconvert_exporter": "python",
   "pygments_lexer": "ipython3",
   "version": "3.11.5"
  }
 },
 "nbformat": 4,
 "nbformat_minor": 2
}
